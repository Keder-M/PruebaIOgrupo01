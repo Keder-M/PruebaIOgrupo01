{
  "nbformat": 4,
  "nbformat_minor": 0,
  "metadata": {
    "colab": {
      "provenance": [],
      "authorship_tag": "ABX9TyPTrXmd9a8Y5SXnKPs6yla7",
      "include_colab_link": true
    },
    "kernelspec": {
      "name": "python3",
      "display_name": "Python 3"
    },
    "language_info": {
      "name": "python"
    }
  },
  "cells": [
    {
      "cell_type": "markdown",
      "metadata": {
        "id": "view-in-github",
        "colab_type": "text"
      },
      "source": [
        "<a href=\"https://colab.research.google.com/github/Keder-M/PruebaIOgrupo01/blob/main/MADERAk_prueba.ipynb\" target=\"_parent\"><img src=\"https://colab.research.google.com/assets/colab-badge.svg\" alt=\"Open In Colab\"/></a>"
      ]
    },
    {
      "cell_type": "markdown",
      "source": [
        "# Mi primera vez\n",
        "## subtitulo\n"
      ],
      "metadata": {
        "id": "sf19m4XkeoIh"
      }
    },
    {
      "cell_type": "code",
      "execution_count": 6,
      "metadata": {
        "colab": {
          "base_uri": "https://localhost:8080/"
        },
        "id": "71fqwviEdPf-",
        "outputId": "28c18e4f-f6dd-4efd-d096-7b45a202be1f"
      },
      "outputs": [
        {
          "output_type": "stream",
          "name": "stdout",
          "text": [
            "Buenos dias Mundo\n"
          ]
        }
      ],
      "source": [
        "print(\"Buenos dias Mundo\")"
      ]
    },
    {
      "cell_type": "markdown",
      "source": [
        "# Segundo Ejercicio"
      ],
      "metadata": {
        "id": "S2Yb-qkXfCDo"
      }
    },
    {
      "cell_type": "code",
      "source": [
        "print(\"Buenos dias, Keder.\")"
      ],
      "metadata": {
        "colab": {
          "base_uri": "https://localhost:8080/"
        },
        "id": "pBjSbC41fNHA",
        "outputId": "bf45be50-0f18-4a50-f25f-402f34c8be68"
      },
      "execution_count": 7,
      "outputs": [
        {
          "output_type": "stream",
          "name": "stdout",
          "text": [
            "Buenos dias, Keder.\n"
          ]
        }
      ]
    }
  ]
}